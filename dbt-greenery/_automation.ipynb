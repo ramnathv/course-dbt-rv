{
 "cells": [
  {
   "cell_type": "markdown",
   "metadata": {},
   "source": [
    "## Generate Base Models"
   ]
  },
  {
   "cell_type": "code",
   "execution_count": 40,
   "metadata": {},
   "outputs": [],
   "source": [
    "import yaml\n",
    "import os\n",
    "def generate_base_models(source_file_path):\n",
    "    with open(source_file_path, 'r') as file:\n",
    "        data = yaml.safe_load(file)\n",
    "    source_tables = [d['name'] for d in data['sources'][0]['tables']]\n",
    "    source_name = data['sources'][0]['name']\n",
    "    for table in source_tables:\n",
    "        opts = f'{{\"source_name\": \"{source_name}\", \"table_name\": \"{table}\"}}'\n",
    "        cmd = f\"dbt run-operation generate_base_model --args '{opts}' | tail -n +2 > models/example/stg_{table}.sql\"\n",
    "        os.system(cmd)\n",
    "\n",
    "# generate_staging_models('models/example/source.yml')"
   ]
  },
  {
   "cell_type": "markdown",
   "metadata": {},
   "source": [
    "## Generate Model YAML"
   ]
  },
  {
   "cell_type": "code",
   "execution_count": 69,
   "metadata": {},
   "outputs": [
    {
     "name": "stdout",
     "output_type": "stream",
     "text": [
      "stg_addresses\n",
      "stg_events\n",
      "stg_order_items\n",
      "stg_orders\n",
      "stg_products\n",
      "stg_promos\n",
      "stg_superheroes\n",
      "stg_users\n"
     ]
    }
   ],
   "source": [
    "import subprocess\n",
    "def generate_model_yaml(source_file_path):\n",
    "    with open(source_file_path, 'r') as file:\n",
    "        data = yaml.safe_load(file)\n",
    "    stg_tables = ['stg_' + d['name'] for d in data['sources'][0]['tables']]\n",
    "    models = []\n",
    "    for stg_table in stg_tables:\n",
    "      print(stg_table)\n",
    "      cmd = f\"dbt run-operation generate_model_yaml --args 'model_name: {stg_table}' | tail -n +2\"\n",
    "      out = subprocess.getoutput(cmd)\n",
    "      models = models + yaml.safe_load(out)['models']\n",
    "    return models\n",
    "\n",
    "models = generate_model_yaml('models/example/source.yml')\n"
   ]
  },
  {
   "cell_type": "code",
   "execution_count": 68,
   "metadata": {},
   "outputs": [],
   "source": [
    "with open('models/example/schema.yml', 'r') as file:\n",
    "    schema = yaml.safe_load(file)\n",
    "schema['models'] = models\n",
    "with open('models/example/schema.yml', 'w') as file:\n",
    "    yaml.dump(schema, file, sort_keys=False)"
   ]
  }
 ],
 "metadata": {
  "interpreter": {
   "hash": "625c31d6b4db3d7e7e2853cc30dc2062e1cda684f3e49d5f899ae496ae755fe0"
  },
  "kernelspec": {
   "display_name": "Python 3.8.12 64-bit ('3.8.12': pyenv)",
   "name": "python3"
  },
  "language_info": {
   "codemirror_mode": {
    "name": "ipython",
    "version": 3
   },
   "file_extension": ".py",
   "mimetype": "text/x-python",
   "name": "python",
   "nbconvert_exporter": "python",
   "pygments_lexer": "ipython3",
   "version": "3.8.12"
  },
  "orig_nbformat": 4
 },
 "nbformat": 4,
 "nbformat_minor": 2
}
